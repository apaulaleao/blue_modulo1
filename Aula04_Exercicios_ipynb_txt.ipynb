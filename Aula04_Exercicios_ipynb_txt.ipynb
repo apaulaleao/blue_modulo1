{
  "nbformat": 4,
  "nbformat_minor": 0,
  "metadata": {
    "colab": {
      "name": "Cópia de Aula04_Exercicios.ipynb.txt",
      "provenance": [],
      "collapsed_sections": [],
      "include_colab_link": true
    },
    "kernelspec": {
      "name": "python3",
      "display_name": "Python 3"
    },
    "language_info": {
      "name": "python"
    }
  },
  "cells": [
    {
      "cell_type": "markdown",
      "metadata": {
        "id": "view-in-github",
        "colab_type": "text"
      },
      "source": [
        "<a href=\"https://colab.research.google.com/github/apaulaleao/blue_modulo1/blob/main/Aula04_Exercicios_ipynb_txt.ipynb\" target=\"_parent\"><img src=\"https://colab.research.google.com/assets/colab-badge.svg\" alt=\"Open In Colab\"/></a>"
      ]
    },
    {
      "cell_type": "markdown",
      "metadata": {
        "id": "DptQTkwqN7v9"
      },
      "source": [
        "# Exercícios de Aquecimento\n",
        "\n",
        "## Exercício 01\n",
        "Elabore um programa que imprima na tela a seguinte frase `Olá Mundo! Esse é o meu primeiro programa`"
      ]
    },
    {
      "cell_type": "code",
      "metadata": {
        "id": "fu-Hvxg7OT64",
        "colab": {
          "base_uri": "https://localhost:8080/"
        },
        "outputId": "66c1b6a6-c78f-4edb-868c-e44ad75d0e38"
      },
      "source": [
        "print('Olá Mundo! Esse é o meu primeiro programa')"
      ],
      "execution_count": null,
      "outputs": [
        {
          "output_type": "stream",
          "text": [
            "Olá Mundo! Esse é o meu primeiro programa\n"
          ],
          "name": "stdout"
        }
      ]
    },
    {
      "cell_type": "markdown",
      "metadata": {
        "id": "HYnPLbl2OfuE"
      },
      "source": [
        "## Exercício 02\n",
        "Elabore um programa que escreve seu nome completo na primeira linha, seu endereço na segunda e o CEP e telefone na terceira.  \n",
        "\n",
        "**Exemplo:**\n",
        "```\n",
        "Nome: Bruno Fabri\n",
        "Endereço: Rua ABC\n",
        "CEP: 002220-010\n",
        "```"
      ]
    },
    {
      "cell_type": "code",
      "metadata": {
        "id": "sUrmuOzbO5Cd",
        "colab": {
          "base_uri": "https://localhost:8080/"
        },
        "outputId": "1573ab08-ec48-47fb-8051-62642cd2d794"
      },
      "source": [
        "print(\"Nome:Ana Paula Leão\\nEndereço: Sao Luis \\nCEP: 65073-230 e telefone (98) 2345-0505\")"
      ],
      "execution_count": null,
      "outputs": [
        {
          "output_type": "stream",
          "text": [
            "Nome:Ana Paula Leão\n",
            "Endereço: Sao Luis \n",
            "CEP: 65073-230 e telefone (98) 2345-0505\n"
          ],
          "name": "stdout"
        }
      ]
    },
    {
      "cell_type": "markdown",
      "metadata": {
        "id": "5XVY0cvwP1WX"
      },
      "source": [
        "## Exercício 03\n",
        "Elabore um programa que recebe o nome de uma pessoa do terminal e mostra a seguinte mensagem: `Olá {nome}! Seja bem vindo ao fantástico mundo da programação`"
      ]
    },
    {
      "cell_type": "code",
      "metadata": {
        "id": "VDfwe6OSQM0M",
        "colab": {
          "base_uri": "https://localhost:8080/"
        },
        "outputId": "2a203b5f-3de4-4ee7-b534-5cac2eeaf3aa"
      },
      "source": [
        "nome = input('Digite seu nome: ')\n",
        "print('Olá', nome + '! Seja bem vindo ao fantástico mundo da programação.')\n",
        "#print('Olá {}! Seja bem vindo ao fantástico mundo da programação.'.format(nome))\n",
        "print(f\"Olá {nome}! Seja bem vindo ao fantástico mundo da programação!\")"
      ],
      "execution_count": 2,
      "outputs": [
        {
          "output_type": "stream",
          "text": [
            "Digite seu nome: ana\n",
            "Olá ana! Seja bem vindo ao fantástico mundo da programação.\n",
            "Olá ana! Seja bem vindo ao fantástico mundo da programação!\n"
          ],
          "name": "stdout"
        }
      ]
    },
    {
      "cell_type": "markdown",
      "metadata": {
        "id": "1Nb29agVQc3k"
      },
      "source": [
        "## Exercício 04\n",
        "Elabore um programa que recebe dois valores inteiros e mostra a soma desses valores\n",
        "\n",
        "**Exemplo:**\n",
        "\n",
        "```\n",
        "Primeiro Valor = 2\n",
        "Segundo Valor = 3\n",
        "Soma = 5\n",
        "```"
      ]
    },
    {
      "cell_type": "code",
      "metadata": {
        "id": "a6_BwVwRROmH",
        "colab": {
          "base_uri": "https://localhost:8080/"
        },
        "outputId": "fee419f5-e183-4b5d-95bf-9b1772a26825"
      },
      "source": [
        "valor1 = int(input('Digite um número: '))\n",
        "valor2 = int(input('Digite outro número: '))\n",
        "print('Primeiro Valor =', valor1 )\n",
        "print('Segundo Valor =', valor2)\n",
        "print('Soma =', valor1 + valor2)\n",
        "print(type(valor1))"
      ],
      "execution_count": 3,
      "outputs": [
        {
          "output_type": "stream",
          "text": [
            "Digite um número: 2\n",
            "Digite outro número: 7\n",
            "Primeiro Valor = 2\n",
            "Segundo Valor = 7\n",
            "Soma = 9\n",
            "<class 'int'>\n"
          ],
          "name": "stdout"
        }
      ]
    },
    {
      "cell_type": "markdown",
      "metadata": {
        "id": "4HQxR3FTTbSr"
      },
      "source": [
        "## Exercício 05\n",
        "Elabore um programa que recebe dois valores inteiros e mostra se o primeiro valor é maior ou igual ao segundo valor\n",
        "\n",
        "**Exemplo:**\n",
        "```\n",
        "Primeiro Valor = 3\n",
        "Segundo Valor = 2\n",
        "Resultado = True\n",
        "```"
      ]
    },
    {
      "cell_type": "code",
      "metadata": {
        "id": "OXISQASdTeSW",
        "colab": {
          "base_uri": "https://localhost:8080/"
        },
        "outputId": "d969e517-1166-42e7-bf43-08edb8769c47"
      },
      "source": [
        "#num1 = float(input('Digite o primeiro valor:'))\n",
        "#num2 = float(input('Digite o segundo valor:'))\n",
        "\n",
        "#print(num1 >= num2)\n",
        "#print(num1 <= num2)\n",
        "#print(num1 != num2)\n",
        "#print(num1 == num2)\n",
        "valor1 = int(input('Digite um número: '))\n",
        "valor2 = int(input('Digite outro número: '))\n",
        "print('Primeiro Valor =', valor1 )\n",
        "print('Segundo Valor =', valor2)\n",
        "print('Resultado:', valor1 >= valor2)"
      ],
      "execution_count": 6,
      "outputs": [
        {
          "output_type": "stream",
          "text": [
            "Digite um número: 20\n",
            "Digite outro número: 5\n",
            "Primeiro Valor = 20\n",
            "Segundo Valor = 5\n",
            "Resultado: True\n"
          ],
          "name": "stdout"
        }
      ]
    },
    {
      "cell_type": "markdown",
      "metadata": {
        "id": "Gn8rHPn3UCnc"
      },
      "source": [
        "## Exercício 06\n",
        "Elabore um programa que recebe o seu nome, endereço e hobby e mostra cada uma das informações da seguinte forma:\n",
        "- Nome -> Letra maiúscula\n",
        "- Endereço -> Letra minúscula\n",
        "- Hobby -> Primeira letra maiúscula\n",
        "\n",
        "**Exemplo Entrada:**\n",
        "```\n",
        "Nome: bruno fabri\n",
        "Endereço: Rua ABC\n",
        "Hobby: jogar cs\n",
        "```\n",
        "\n",
        "**Exemplo Saída:**\n",
        "```\n",
        "Nome: BRUNO FABRI\n",
        "Endereço: rua abc\n",
        "Hobby: Jogar cs\n",
        "```"
      ]
    },
    {
      "cell_type": "code",
      "metadata": {
        "id": "ZIj-PGVZVVP6",
        "colab": {
          "base_uri": "https://localhost:8080/"
        },
        "outputId": "8357cc98-e99b-4620-86c2-71272cb5b5aa"
      },
      "source": [
        "nome = input('Digite seu nome: ')\n",
        "endereco = input('Digite seu endereço: ')\n",
        "hobby = input('Diga seu hobby: ')\n",
        "\n",
        "print(nome.upper())\n",
        "print(endereco.lower())\n",
        "print(hobby.capitalize())\n",
        "\n",
        "#nome = input('Digite o seu nome: ').upper()\n",
        "#endereco = input('Digite o seu endereço: ').lower()\n",
        "#hobby = input('Qual é o seu Hobby? ').capitalize()\n",
        "\n",
        "#print('Nome:', nome)\n",
        "#print('Endereço:', endereco)\n",
        "#print('Hobby:', hobby)\n",
        "#print(f\"{nome}\\n{endereco}\\n{hobby}\")"
      ],
      "execution_count": null,
      "outputs": [
        {
          "output_type": "stream",
          "text": [
            "Digite seu nome: Ana Paula \n",
            "Digite seu endereço: Calhau\n",
            "Diga seu hobby: velejar\n",
            "ANA PAULA \n",
            "calhau\n",
            "Velejar\n"
          ],
          "name": "stdout"
        }
      ]
    },
    {
      "cell_type": "markdown",
      "metadata": {
        "id": "wlvmEAPQNrcL"
      },
      "source": [
        "# Mini Projetos"
      ]
    },
    {
      "cell_type": "markdown",
      "metadata": {
        "id": "W8zwueNBKh4B"
      },
      "source": [
        "## Mini Projeto 01 - Conversor de Moeda\n",
        "Vamos construir um programa que irá converter moedas do real para o dólar e do dólar para o real. Vamos considerar que `$ 1,00 = R$ 5,75`\n",
        "\n",
        "### Parte 1\n",
        "Faça o conversor de moeda receber o valor em real e mostrar o valor convertido para dólar no formato `$ XXXX.XX`\n",
        "\n",
        "**Exemplo:**\n",
        "\n",
        "```\n",
        "Valor em R$ = 1000\n",
        "Valor em $ = $ 173.91\n",
        "```\n",
        "\n",
        "### Parte 2\n",
        "Altere o conversor de moedas para receber o valor em dólar, converter para real e mostrar o resultado no formato `R$ XXXX.XX`\n",
        "\n",
        "**Exemplo:**\n",
        "```\n",
        "Valor em $ = 1000\n",
        "Valor em R$ = R$ 5750.00\n",
        "```"
      ]
    },
    {
      "cell_type": "code",
      "metadata": {
        "id": "mRQ9fpIgMp5Z",
        "colab": {
          "base_uri": "https://localhost:8080/"
        },
        "outputId": "7104c0a3-a748-4de4-e9f7-9defb0173315"
      },
      "source": [
        "#Parte 1 - Converter real para dolar\n",
        "real = float(input('Quanto você tem na carteira? R$'))\n",
        "dolar = real / 5.75\n",
        "\n",
        "print('Com R${:.2f} você consegue compar US${:.2f}'.format(real, dolar))"
      ],
      "execution_count": null,
      "outputs": [
        {
          "output_type": "stream",
          "text": [
            "Quanto você tem na carteira? R$1000\n",
            "Com R$1000.00 você consegue compar US$173.91\n"
          ],
          "name": "stdout"
        }
      ]
    },
    {
      "cell_type": "code",
      "metadata": {
        "colab": {
          "base_uri": "https://localhost:8080/"
        },
        "id": "9R4Lk2W2WgQB",
        "outputId": "ea84725a-df02-405b-e6c5-e0a6ee1f0fe7"
      },
      "source": [
        "#Parte 2 - Converter dolar para real\n",
        "valor = float(input('Quantos dólares você tem? US$'))\n",
        "dolar = 5.75\n",
        "real = valor * dolar\n",
        "print('Com US${:.2f} você consegue compar R${:.2f}'.format(valor, real))"
      ],
      "execution_count": null,
      "outputs": [
        {
          "output_type": "stream",
          "text": [
            "Quantos dólares você tem? US$1000\n",
            "Com US$1000.00 você consegue compar R$5750.00\n"
          ],
          "name": "stdout"
        }
      ]
    },
    {
      "cell_type": "markdown",
      "metadata": {
        "id": "usTew3kj5iCO"
      },
      "source": [
        "outra forma"
      ]
    },
    {
      "cell_type": "code",
      "metadata": {
        "colab": {
          "base_uri": "https://localhost:8080/"
        },
        "id": "gbHmmuPk4fr4",
        "outputId": "49d8e5d5-95ed-4711-cf13-54a4bd223447"
      },
      "source": [
        "valorusd = float(input('Valor em R$: '))\n",
        "valorbrl = valorusd / 5.75\n",
        "print(f'Valor em US$: $ {valorbrl:.2f}')\n",
        "\n",
        "valorbrl2 = float(input('Valor em US$: '))\n",
        "valorusd2 = valorbrl2 * 5.75\n",
        "print(f'Valor em R$: R$ {valorusd2:.2f}')"
      ],
      "execution_count": 8,
      "outputs": [
        {
          "output_type": "stream",
          "text": [
            "Valor em R$: 1000\n",
            "Valor em US$: $ 173.91\n",
            "Valor em US$: 1000\n",
            "Valor em R$: R$ 5750.00\n"
          ],
          "name": "stdout"
        }
      ]
    },
    {
      "cell_type": "markdown",
      "metadata": {
        "id": "0NmAiF2DV_ju"
      },
      "source": [
        "## Mini Projeto 02 - Calculadora de aumento de aluguel\n",
        "Vamos construir um programa que irá calcular o aumento anual do seu aluguel em duas partes:\n",
        "\n",
        "### Parte 1\n",
        "A sua calculadora vai receber o `valor do aluguel` e calcular o aumento baseado no `IGPM de 31%`. A calculadora deve apresentar o aluguel reajustado no formato `R$ XXXX.XX`\n",
        "\n",
        "**Exemplo:**\n",
        "```\n",
        "Valor do aluguel = 1000\n",
        "Valor do aluguel reajustado = R$ 1310,00\n",
        "```\n",
        "\n",
        "### Parte 2\n",
        "Agora, altere sua calculadora para receber além do `valor do aluguel`, o percentual do reajuste no formato `XX%`.  \n",
        "\n",
        "**Dica:** Descubra uma forma de transformar o percentual recebido em um número para efetuar o cálculo.\n",
        "\n",
        "**Exemplo:**\n",
        "```\n",
        "Valor do aluguel = 1000\n",
        "Percentual do reajuste = 31%\n",
        "Valor do aluguel reajustado = R% 1310,00\n",
        "```"
      ]
    },
    {
      "cell_type": "code",
      "metadata": {
        "id": "0eHzSCyaGkYJ",
        "colab": {
          "base_uri": "https://localhost:8080/"
        },
        "outputId": "6392db49-8659-4dc0-8c4c-b2be77180e21"
      },
      "source": [
        "#Parte 1\n",
        "aluguel =float(input('Informe o seu aluguel: '))\n",
        "resultado = aluguel + (aluguel * 0.31)\n",
        "print('Valor do reajuste do aluguel é de', resultado)"
      ],
      "execution_count": null,
      "outputs": [
        {
          "output_type": "stream",
          "text": [
            "Informe o seu aluguel: 1000\n",
            "Valor do reajuste do aluguel é de 1310.0\n"
          ],
          "name": "stdout"
        }
      ]
    },
    {
      "cell_type": "markdown",
      "metadata": {
        "id": "WhwAGIbo5ysx"
      },
      "source": [
        "outra forma "
      ]
    },
    {
      "cell_type": "code",
      "metadata": {
        "colab": {
          "base_uri": "https://localhost:8080/",
          "height": 248
        },
        "id": "ynsCOy0z52pT",
        "outputId": "5c345fa6-0d1b-408f-dc1d-93db7fbe4fba"
      },
      "source": [
        "valoraluguel1 = float(input('Valor do aluguel: '))\n",
        "valorreajustado1 = valoraluguel * 1.31\n",
        "print(f'Valor do aluguel reajustado: {valorreajustado:.2f}')\n",
        "\n",
        "valoraluguel2 = float(input('Valor do aluguel: '))\n",
        "valorreajuste = float(input('Taxa reajuste:'))\n",
        "valorreajustado2 = valoraluguel2 * (1 + (valorreajuste / 100))\n",
        "print(f'Valor do Aluguel reajustado: R$ {valorreajustado2:.2f}')\n"
      ],
      "execution_count": 9,
      "outputs": [
        {
          "output_type": "stream",
          "text": [
            "Valor do aluguel: 1500\n"
          ],
          "name": "stdout"
        },
        {
          "output_type": "error",
          "ename": "NameError",
          "evalue": "ignored",
          "traceback": [
            "\u001b[0;31m---------------------------------------------------------------------------\u001b[0m",
            "\u001b[0;31mNameError\u001b[0m                                 Traceback (most recent call last)",
            "\u001b[0;32m<ipython-input-9-36e002f28c46>\u001b[0m in \u001b[0;36m<module>\u001b[0;34m()\u001b[0m\n\u001b[1;32m      1\u001b[0m \u001b[0mvaloraluguel1\u001b[0m \u001b[0;34m=\u001b[0m \u001b[0mfloat\u001b[0m\u001b[0;34m(\u001b[0m\u001b[0minput\u001b[0m\u001b[0;34m(\u001b[0m\u001b[0;34m'Valor do aluguel: '\u001b[0m\u001b[0;34m)\u001b[0m\u001b[0;34m)\u001b[0m\u001b[0;34m\u001b[0m\u001b[0;34m\u001b[0m\u001b[0m\n\u001b[0;32m----> 2\u001b[0;31m \u001b[0mvalorreajustado1\u001b[0m \u001b[0;34m=\u001b[0m \u001b[0mvaloraluguel\u001b[0m \u001b[0;34m*\u001b[0m \u001b[0;36m1.31\u001b[0m\u001b[0;34m\u001b[0m\u001b[0;34m\u001b[0m\u001b[0m\n\u001b[0m\u001b[1;32m      3\u001b[0m \u001b[0mprint\u001b[0m\u001b[0;34m(\u001b[0m\u001b[0;34mf'Valor do aluguel reajustado: {valorreajustado:.2f}'\u001b[0m\u001b[0;34m)\u001b[0m\u001b[0;34m\u001b[0m\u001b[0;34m\u001b[0m\u001b[0m\n\u001b[1;32m      4\u001b[0m \u001b[0;34m\u001b[0m\u001b[0m\n\u001b[1;32m      5\u001b[0m \u001b[0mvaloraluguel2\u001b[0m \u001b[0;34m=\u001b[0m \u001b[0mfloat\u001b[0m\u001b[0;34m(\u001b[0m\u001b[0minput\u001b[0m\u001b[0;34m(\u001b[0m\u001b[0;34m'Valor do aluguel: '\u001b[0m\u001b[0;34m)\u001b[0m\u001b[0;34m)\u001b[0m\u001b[0;34m\u001b[0m\u001b[0;34m\u001b[0m\u001b[0m\n",
            "\u001b[0;31mNameError\u001b[0m: name 'valoraluguel' is not defined"
          ]
        }
      ]
    },
    {
      "cell_type": "markdown",
      "metadata": {
        "id": "xN88sUuMOG46"
      },
      "source": [
        "## Mini Projeto 03 - Calculadora de dano\n",
        "Vamos implementar a calculadora de dano de RPG!!\n",
        "\n",
        "### Parte 1\n",
        "O programa vai receber a `vida e um monstro (entre 10 e 50)` e o `valor do ataque do jogador por turno (entre 5 e 10)`\n",
        "\n",
        "Baseado nos valores, exiba a quantidade de turnos que o jogador irá demorar para conseguir derrotar o monstro.\n",
        "\n",
        "**Exemplo:**\n",
        "```\n",
        "Vida de um monstro (entre 10 e 50): 26\n",
        "Valor do ataque do jogador por turno (entre 5 e 10): 5\n",
        "Resultado: O jogador irá precisar de 6 turnos para derrotar o monstro.\n",
        "```\n",
        "\n",
        "### Parte 2\n",
        "Altere o programa para ao invés de receber a vida do monstro, gerar aleatoriamente um valor entre 10 e 50."
      ]
    },
    {
      "cell_type": "code",
      "metadata": {
        "id": "Mrpz9UomQH2P",
        "colab": {
          "base_uri": "https://localhost:8080/"
        },
        "outputId": "39fc0b36-93ba-4fd5-af80-c7250897d6b3"
      },
      "source": [
        "print('Parte 1')\n",
        "vidamonstro = int(input('Vida do Monstro (entre 10 e 50): '))\n",
        "ataque = int(input('Ataque (entre 5 e 10): '))\n",
        "resultado = vidamonstro / ataque\n",
        "print(f'O mostro será derrotado em {round(resultado + 0.5)} atques')\n",
        "\n",
        "print('Parte 2')\n",
        "import random\n",
        "vidamonstro1 = random.randint(10,50)\n",
        "print('Vida do Monstro:', vidamonstro1)\n",
        "ataque1 = int(input('Ataque (entre 5 e 10): '))\n",
        "resultado1 = vidamonstro1 / ataque1\n",
        "print(f'O mostro será derrotado em {round(resultado1 + 0.5)} atques')\n",
        "#while True:\n",
        "#    try:\n",
        "#        vidamonstro = int(input('Vida do Monstro (entre 10 e 50): '))\n",
        "#        if not 10 <= vidamonstro <= 50:\n",
        "#            raise ValueError('Valor deve ser entre 10 e 50')\n",
        "#        break\n",
        "#    except ValueError as error:\n",
        "#        print(error)\n",
        "#\n",
        "#while True:\n",
        "#    try:\n",
        "#        ataque = int(input('Valor do ataque (entre 5 e 10): '))\n",
        "#        if not 5 <= ataque <= 10:\n",
        "#            raise ValueError('Valor deve ser entre 5 e 10')\n",
        "#        break\n",
        "#    except ValueError as error:\n",
        "#        print(error)\n",
        "#resultado = vidamonstro / ataque\n",
        "#print(f'O mostro será derrotado em {round(resultado)} ataques')\n"
      ],
      "execution_count": 10,
      "outputs": [
        {
          "output_type": "stream",
          "text": [
            "Parte 1\n",
            "Vida do Monstro (entre 10 e 50): 10\n",
            "Ataque (entre 5 e 10): 6\n",
            "O mostro será derrotado em 2 atques\n",
            "Parte 2\n",
            "Vida do Monstro: 32\n",
            "Ataque (entre 5 e 10): 7\n",
            "O mostro será derrotado em 5 atques\n"
          ],
          "name": "stdout"
        }
      ]
    }
  ]
}