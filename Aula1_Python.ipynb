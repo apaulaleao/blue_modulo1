{
  "nbformat": 4,
  "nbformat_minor": 0,
  "metadata": {
    "colab": {
      "name": "Aula1_Python.ipynb",
      "provenance": [],
      "authorship_tag": "ABX9TyNomUYt1S/xft+FYqweUYrT",
      "include_colab_link": true
    },
    "kernelspec": {
      "name": "python3",
      "display_name": "Python 3"
    },
    "language_info": {
      "name": "python"
    }
  },
  "cells": [
    {
      "cell_type": "markdown",
      "metadata": {
        "id": "view-in-github",
        "colab_type": "text"
      },
      "source": [
        "<a href=\"https://colab.research.google.com/github/apaulaleao/blue_modulo1/blob/main/Aula1_Python.ipynb\" target=\"_parent\"><img src=\"https://colab.research.google.com/assets/colab-badge.svg\" alt=\"Open In Colab\"/></a>"
      ]
    },
    {
      "cell_type": "code",
      "metadata": {
        "colab": {
          "base_uri": "https://localhost:8080/"
        },
        "id": "5HRpb-ajzUyC",
        "outputId": "916589d6-20c2-4b95-caa7-b7f775f0bf3a"
      },
      "source": [
        "print('Hello! Mundo')"
      ],
      "execution_count": 1,
      "outputs": [
        {
          "output_type": "stream",
          "text": [
            "Hello! Mundo\n"
          ],
          "name": "stdout"
        }
      ]
    },
    {
      "cell_type": "markdown",
      "metadata": {
        "id": "A1_jQKnQzusx"
      },
      "source": [
        "Criando variavel \n"
      ]
    },
    {
      "cell_type": "code",
      "metadata": {
        "colab": {
          "base_uri": "https://localhost:8080/"
        },
        "id": "_3CC4fQxzzTd",
        "outputId": "df132f76-c3f3-4fb9-b85c-24153d97697d"
      },
      "source": [
        "#armazenando variáveis\n",
        "varString = 'Isso é uma string'\n",
        "varInt = 20\n",
        "varFloat = 15.6\n",
        "print(varString)\n",
        "print(varInt)\n",
        "print(varFloat)\n",
        "\n",
        "#verificar o tipo de variável\n",
        "print(type(varString))\n",
        "print(type(varInt))\n",
        "print(type(varFloat))\n"
      ],
      "execution_count": 2,
      "outputs": [
        {
          "output_type": "stream",
          "text": [
            "Isso é uma string\n",
            "20\n",
            "15.6\n",
            "<class 'str'>\n",
            "<class 'int'>\n",
            "<class 'float'>\n"
          ],
          "name": "stdout"
        }
      ]
    },
    {
      "cell_type": "markdown",
      "metadata": {
        "id": "TlSVDIW1z_u0"
      },
      "source": [
        "Concatenando Strings "
      ]
    },
    {
      "cell_type": "code",
      "metadata": {
        "colab": {
          "base_uri": "https://localhost:8080/"
        },
        "id": "Yh6ypRsV0CPa",
        "outputId": "981af628-197e-4c2d-c9db-16c0a028b192"
      },
      "source": [
        "texto1 = \"Isso é um texto\"\n",
        "texto2 = \"E isso também\"\n",
        "texto3 = \"Eu armazenei:\"\n",
        "texto4 = \"na variável num1\"\n",
        "num1 = 10\n",
        "num2 = 20\n",
        "\n",
        "print(texto1, texto2)\n",
        "print(texto1 + texto2)\n",
        "print(texto3, num1, texto4)\n",
        "print(num1 + num2)"
      ],
      "execution_count": 3,
      "outputs": [
        {
          "output_type": "stream",
          "text": [
            "Isso é um texto E isso também\n",
            "Isso é um textoE isso também\n",
            "Eu armazenei: 10 na variável num1\n",
            "30\n"
          ],
          "name": "stdout"
        }
      ]
    },
    {
      "cell_type": "markdown",
      "metadata": {
        "id": "sKPgTh0z0YuO"
      },
      "source": [
        "Operadores em Python "
      ]
    },
    {
      "cell_type": "code",
      "metadata": {
        "colab": {
          "base_uri": "https://localhost:8080/"
        },
        "id": "B6Bu7EoN0Wj2",
        "outputId": "7dfc0055-6900-4397-9eb5-361fd15d42dd"
      },
      "source": [
        "print(5 + 5)\n",
        "print(10 - 5)\n",
        "print(3 * 10)\n",
        "print(20 / 5)\n",
        "print(18 // 4)\n",
        "print(18 % 4)\n",
        "print(10 ** 3)\n"
      ],
      "execution_count": 4,
      "outputs": [
        {
          "output_type": "stream",
          "text": [
            "10\n",
            "5\n",
            "30\n",
            "4.0\n",
            "4\n",
            "2\n",
            "1000\n"
          ],
          "name": "stdout"
        }
      ]
    },
    {
      "cell_type": "markdown",
      "metadata": {
        "id": "k5XmnrRN0ndR"
      },
      "source": [
        "Operadores Relacionais "
      ]
    },
    {
      "cell_type": "code",
      "metadata": {
        "colab": {
          "base_uri": "https://localhost:8080/"
        },
        "id": "fMdIcKFI0WCy",
        "outputId": "69c62d92-2022-453a-fba6-ed8ab489705c"
      },
      "source": [
        "print(2 > 3)\n",
        "print(2 < 3)\n",
        "print(2 == 3)\n",
        "print(3 == 3)\n",
        "print(3 >= 2)\n",
        "\n",
        "var1 = 1\n",
        "var2 = 2\n",
        "var3 = 3\n",
        "var4 = \"string\"\n",
        "var5 = \"string2\"\n",
        "var6 = \"string\"\n",
        "print(var1 > var2)\n",
        "print(var1 < var2)\n",
        "print(var4 > var5)\n",
        "print(var4 == var6)"
      ],
      "execution_count": 5,
      "outputs": [
        {
          "output_type": "stream",
          "text": [
            "False\n",
            "True\n",
            "False\n",
            "True\n",
            "True\n",
            "False\n",
            "True\n",
            "False\n",
            "True\n"
          ],
          "name": "stdout"
        }
      ]
    },
    {
      "cell_type": "markdown",
      "metadata": {
        "id": "XEnT3iWc0x1w"
      },
      "source": [
        "Operadores Lógicos "
      ]
    },
    {
      "cell_type": "code",
      "metadata": {
        "colab": {
          "base_uri": "https://localhost:8080/"
        },
        "id": "i6t6Tr1J00Ei",
        "outputId": "a7b6f368-3b3f-4b02-a1e9-f76032bf03a1"
      },
      "source": [
        "print(4 > 3 and 10 > 8)\n",
        "print(4 > 3 and 10 < 8)\n",
        "print(4 >3 or 10 > 12)\n",
        "print(not 3 > 2)\n",
        "print(not 3 < 2)\n",
        "print(5 > 3 and not 3 > 2)\n",
        "print(5 > 3 and not 3 < 2)\n"
      ],
      "execution_count": 6,
      "outputs": [
        {
          "output_type": "stream",
          "text": [
            "True\n",
            "False\n",
            "True\n",
            "False\n",
            "True\n",
            "False\n",
            "True\n"
          ],
          "name": "stdout"
        }
      ]
    },
    {
      "cell_type": "markdown",
      "metadata": {
        "id": "JHF9oif108mB"
      },
      "source": [
        "Codigo Input"
      ]
    },
    {
      "cell_type": "code",
      "metadata": {
        "colab": {
          "base_uri": "https://localhost:8080/"
        },
        "id": "7d0r3fz41AT6",
        "outputId": "203aeb5d-5fe6-49a6-bef0-25962d721291"
      },
      "source": [
        "varInput = input('Digite um número: ')\n",
        "print(varInput)\n",
        "\n",
        "varInput1 = int(input('Digite um número: '))\n",
        "varInput2 = int(input('Digite outro número: '))\n",
        "print('Soma:', varInput1 + varInput2)\n"
      ],
      "execution_count": 7,
      "outputs": [
        {
          "output_type": "stream",
          "text": [
            "Digite um número: 12\n",
            "12\n",
            "Digite um número: 23\n",
            "Digite outro número: 10\n",
            "Soma: 33\n"
          ],
          "name": "stdout"
        }
      ]
    }
  ]
}