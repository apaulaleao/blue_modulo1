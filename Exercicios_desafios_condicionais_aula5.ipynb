{
  "nbformat": 4,
  "nbformat_minor": 0,
  "metadata": {
    "colab": {
      "name": "Cópia_de_Exercicios_desafios_condicionais_aula5.ipynb",
      "provenance": [],
      "collapsed_sections": [],
      "include_colab_link": true
    },
    "kernelspec": {
      "name": "python3",
      "display_name": "Python 3"
    },
    "language_info": {
      "name": "python"
    }
  },
  "cells": [
    {
      "cell_type": "markdown",
      "metadata": {
        "id": "view-in-github",
        "colab_type": "text"
      },
      "source": [
        "<a href=\"https://colab.research.google.com/github/apaulaleao/blue_modulo1/blob/main/Exercicios_desafios_condicionais_aula5.ipynb\" target=\"_parent\"><img src=\"https://colab.research.google.com/assets/colab-badge.svg\" alt=\"Open In Colab\"/></a>"
      ]
    },
    {
      "cell_type": "markdown",
      "metadata": {
        "id": "tfU9qd8OOh3Y"
      },
      "source": [
        "Exercício 1: Faça um Programa que leia três números inteiros, em seguida mostre o maior e o menor deles.\n"
      ]
    },
    {
      "cell_type": "code",
      "metadata": {
        "id": "M6y0oSsIJoCE",
        "colab": {
          "base_uri": "https://localhost:8080/"
        },
        "outputId": "761f96d5-dc35-4123-f09e-2f974d6310b9"
      },
      "source": [
        "n1=int(input(\"Qual o primeiro numero:\"))\n",
        "n2=int(input('Qual o segundo numero:'))\n",
        "n3=int(input(\"Qual o terceiro numero:\"))\n",
        "\n",
        "#Mostre o maior numero \n",
        "\n",
        "maior = n1\n",
        "menor = n1\n",
        "if (n2 > maior):\n",
        "    maior = n2\n",
        "if (n3 > maior):\n",
        "    maior = n3\n",
        "if (n2 < menor):\n",
        "    menor = n2\n",
        "if (n3 < menor):\n",
        "    menor = n3\n",
        "print ('O maior é: ', maior)\n",
        "print ('O menor é: ', menor)\n",
        "\n"
      ],
      "execution_count": 25,
      "outputs": [
        {
          "output_type": "stream",
          "text": [
            "Qual o primeiro numero:20\n",
            "Qual o segundo numero:54\n",
            "Qual o terceiro numero:5\n",
            "O maior é:  54\n",
            "O menor é:  5\n"
          ],
          "name": "stdout"
        }
      ]
    },
    {
      "cell_type": "markdown",
      "metadata": {
        "id": "bSsK3qSMOevp"
      },
      "source": [
        "**Exercício 2 - Faça um programa que peça dois números e imprima o maior deles.**"
      ]
    },
    {
      "cell_type": "code",
      "metadata": {
        "id": "0va9UlagJohH",
        "colab": {
          "base_uri": "https://localhost:8080/"
        },
        "outputId": "59c6a8ee-c55c-45ae-9d93-b745518ddf06"
      },
      "source": [
        "#digitar dois valores \n",
        "num1=int(input(\"Digite o primeiro numero:\"))\n",
        "num2=int(input('Digite o segundo numero:'))\n",
        "\n",
        "#imprima o maior numero , comparando entre eles\n",
        "\n",
        "if num1 > num2 :\n",
        "  print (f'O maior número é o: {num1}')\n",
        "else :\n",
        "    print (f'O maior número é o: {num2}')"
      ],
      "execution_count": 32,
      "outputs": [
        {
          "output_type": "stream",
          "text": [
            "Digite o primeiro numero:2\n",
            "Digite o segundo numero:30\n",
            "O maior número é o: 30\n"
          ],
          "name": "stdout"
        }
      ]
    },
    {
      "cell_type": "markdown",
      "metadata": {
        "id": "7LgzHMqUOmX_"
      },
      "source": [
        "Exercício 3 - Faça um script que peça um valor e mostre na tela se o valor é positivo ou negativo."
      ]
    },
    {
      "cell_type": "code",
      "metadata": {
        "id": "pM9hru6wJpN5",
        "colab": {
          "base_uri": "https://localhost:8080/"
        },
        "outputId": "14430473-9f6c-4b5e-a917-a47b067e5960"
      },
      "source": [
        "#digite um numero inteiro e mostre se ele é positivo ou negativo \n",
        "\n",
        "num1=int(input('Escreva um valor inteiro e te direi se é positivo ou negativo:'))\n",
        "\n",
        "if num1> 0 :\n",
        "  print (\"Esse número é positivo\")\n",
        "else :\n",
        "  print('Opa! Esse número é negativo')"
      ],
      "execution_count": 42,
      "outputs": [
        {
          "output_type": "stream",
          "text": [
            "Escreva um valor inteiro e te direi se é positivo ou negativo:-34\n",
            "Opa! Esse número é negativo\n"
          ],
          "name": "stdout"
        }
      ]
    },
    {
      "cell_type": "markdown",
      "metadata": {
        "id": "nK4P9Qy1OnbL"
      },
      "source": [
        "Exercício 4 - Crie um programa que verifique se uma letra digitada é \"F\" ou \"M\". Conforme a letra escrever: F - Feminino, M - Masculino, Sexo Inválido."
      ]
    },
    {
      "cell_type": "code",
      "metadata": {
        "id": "g-9Tll_kJphc",
        "colab": {
          "base_uri": "https://localhost:8080/"
        },
        "outputId": "5f7f8ebc-0bbd-4ad9-d15a-31e4f2c2d655"
      },
      "source": [
        "#coloque as informações do sexo da pessoa \n",
        "sexo = input('Confirme seu sexo: F / M : ')\n",
        "#agora comparar se sexo é F ou M, se não, aparecerá sexo inválido\n",
        "if sexo.upper() == \"F\" :\n",
        "  print ('Seu sexo é Feminino')\n",
        "elif sexo.upper() == \"M\" :\n",
        "    print ('Seu sexo é Masculino')\n",
        "else :\n",
        "    print ('Sexo Inválido')"
      ],
      "execution_count": 46,
      "outputs": [
        {
          "output_type": "stream",
          "text": [
            "Confirme seu sexo: F / M : a\n",
            "Sexo Inválido\n"
          ],
          "name": "stdout"
        }
      ]
    },
    {
      "cell_type": "markdown",
      "metadata": {
        "id": "SfNlQyyKOp1S"
      },
      "source": [
        "Exercício 5 - Crie um programa em Python que peça a nota do aluno, que deve ser um float entre 0.00 e 10.0\n",
        "    • Se a nota for menor que 6.0, deve exibir a nota F.\n",
        "    • Se a nota for de 6.0 até 7.0, deve exibir a nota D.\n",
        "    • Se a nota for entre 7.0 e 8.0, deve exibir a nota C.\n",
        "    • Se a nota for entre 8.0 e 9.0, deve exibir a nota B.\n",
        "    • Por fim, se for entre 9.0 e 10.0, deve exibir um belo de um A."
      ]
    },
    {
      "cell_type": "code",
      "metadata": {
        "id": "caUKaqZYJp-K",
        "colab": {
          "base_uri": "https://localhost:8080/"
        },
        "outputId": "dbc64071-0691-4c87-b009-9be80a804e12"
      },
      "source": [
        "#Coloque a nota do aluno \n",
        "\n",
        "nota=float(input('Digite a sua nota:'))\n",
        "\n",
        "#se a nota for menor que 6, exiba a nota F \n",
        "if nota < 6:   \n",
        "  print(\"O aluno tirou nota: F\")\n",
        "\n",
        "#se a nota for de 6.0 até 7.0 , exiba a nota D \n",
        "elif nota >= 6 and nota <= 7:   \n",
        "  print(\"O aluno tirou nota: D\")\n",
        "\n",
        "#se a nota for entre 7.0 e 8.0 , exiba a nota C \n",
        "elif nota >= 7 and nota <= 8:   \n",
        "  print(\"O aluno tirou nota: C\")\n",
        "\n",
        "#se a nota for entre 8.0 e 9.0, exiba a nota B \n",
        "elif nota >= 8 and nota <= 9:   \n",
        "  print(\"O aluno tirou nota: B\")\n",
        "#ou se for entre 9.0 e 10.0 , exiba a nota A\n",
        "else:   \n",
        "  print(\"O aluno tirou nota: A\")"
      ],
      "execution_count": 50,
      "outputs": [
        {
          "output_type": "stream",
          "text": [
            "Digite a sua nota:6.1\n",
            "O aluno tirou nota: D\n"
          ],
          "name": "stdout"
        }
      ]
    },
    {
      "cell_type": "markdown",
      "metadata": {
        "id": "S0tjDFr2OuPW"
      },
      "source": [
        "Exercício 6 - Faça um Programa que verifique se uma letra digitada é vogal ou consoante."
      ]
    },
    {
      "cell_type": "code",
      "metadata": {
        "id": "mh6l9n1_JqUa",
        "colab": {
          "base_uri": "https://localhost:8080/"
        },
        "outputId": "0c6b1859-cad0-4aa3-b4a0-a7e58ad13a1a"
      },
      "source": [
        "\n",
        "letra = input(\"Digite uma letra ou consoante: \")\n",
        "\n",
        "#Se for vogal, dará resposta que é uma vogal \n",
        "if letra.lower() ==\"a\":\n",
        "    print(\"É uma Vogal!\")\n",
        "elif letra.lower() == \"e\":\n",
        "    print(\"É uma Vogal!\")\n",
        "elif letra.lower() == \"i\":\n",
        "    print(\"É uma Vogal!\")\n",
        "elif letra.lower() == \"o\":\n",
        "    print(\"É uma Vogal!\")\n",
        "elif letra.lower() == \"u\":\n",
        "    print(\"É uma Vogal!\")\n",
        "#caso não, é consoante. \n",
        "else:\n",
        "    print(\"É uma Consoante!\")"
      ],
      "execution_count": 61,
      "outputs": [
        {
          "output_type": "stream",
          "text": [
            "Digite uma letra ou consoante: e\n",
            "É uma Vogal!\n"
          ],
          "name": "stdout"
        }
      ]
    },
    {
      "cell_type": "markdown",
      "metadata": {
        "id": "-SYJhM3gOuuI"
      },
      "source": [
        "# **PROJETO 1**\n",
        "Resultado da primeira/segunda aula em Python:\n",
        "    • Escreva um programa que receba uma string digitada pelo usuário;\n",
        "    • Caso a string seja \"medieval\", exiba no console \"espada\";\n",
        "    • Caso contrário, se a string for \"futurista\", exiba no console \"sabre de luz\";\n",
        "    • Caso contrário, exiba no console \"Tente novamente\""
      ]
    },
    {
      "cell_type": "code",
      "metadata": {
        "id": "wVVF2ldXJq1Z",
        "colab": {
          "base_uri": "https://localhost:8080/"
        },
        "outputId": "7a946af0-178d-4724-9c9e-d4f28792937f"
      },
      "source": [
        "#string digitada pelo usuario medieval ou futurista\n",
        "\n",
        "arma = input('Escolha sua arma: medieval ou futurista ? ')\n",
        "if arma.lower() == 'medieval' :\n",
        "  print ('Você escolheu a espada!')\n",
        "elif arma.lower() == 'futurista' :\n",
        "  print ('Você escolheu o sabre de luz!')\n",
        "else:\n",
        "  print ('Tente novamente')\n"
      ],
      "execution_count": 66,
      "outputs": [
        {
          "output_type": "stream",
          "text": [
            "Escolha sua arma: medieval ou futurista ? FERRO\n",
            "Tente novamente\n"
          ],
          "name": "stdout"
        }
      ]
    },
    {
      "cell_type": "markdown",
      "metadata": {
        "id": "lcu0VZ8zPuKd"
      },
      "source": [
        "\n",
        "# **Continuação do PROJETO 1**\n",
        "    • Escreva um programa que receba um ataque de espada ou sabre digitada pelo usuário;\n",
        "    • Caso o ataque seja \"espada\", exiba no console \"VOCÊ AINDA NÃO MATOU O CHEFÃO\";\n",
        "    • Caso contrário, se o ataque for \"sabre\", exiba no console \"VOCÊ DERROTOU O CHEFÃO COM O SABRE DE LUZ\";\n",
        "    • Caso contrário, exiba no console \"ATAQUE NOVAMENTE\""
      ]
    },
    {
      "cell_type": "code",
      "metadata": {
        "id": "jupTvz8nJsGy",
        "colab": {
          "base_uri": "https://localhost:8080/"
        },
        "outputId": "63833a41-27d3-4b60-b5e1-ba24a234318a"
      },
      "source": [
        "arma = input('Escolha sua arma: espada ou sabre ? ')\n",
        "if arma.lower() == 'espada' :\n",
        "  print ('VOCÊ AINDA NÃO MATOU O CHEFÃO')\n",
        "elif arma.lower() == 'sabre' :\n",
        "  print ('VOCÊ DERROTOU O CHEFÃO COM O SABRE DE LUZ!')\n",
        "else:\n",
        "  print ('ATAQUE NOVAMENTE!')"
      ],
      "execution_count": 73,
      "outputs": [
        {
          "output_type": "stream",
          "text": [
            "Escolha sua arma: espada ou sabre ? ESPADA\n",
            "VOCÊ AINDA NÃO MATOU O CHEFÃO\n"
          ],
          "name": "stdout"
        }
      ]
    },
    {
      "cell_type": "markdown",
      "metadata": {
        "id": "2qAqfZPsRpFr"
      },
      "source": [
        "# **DESAFIO**\n",
        "As empresas @.com resolveram dar um aumento de salário aos seus colaboradores e lhe contrataram para desenvolver o programa que calculará os reajustes.\n",
        "\n",
        "Faça um programa que recebe o salário de um colaborador e o reajuste segundo o seguinte critério, baseado no salário atual:\n",
        "    • salários até R$ 280,00 (incluindo) : aumento de 20%\n",
        "    • salários entre R$ 280,00 e R$ 700,00 : aumento de 15%\n",
        "    • salários entre R$ 700,00 e R$ 1500,00 : aumento de 10%\n",
        "    • salários de R$ 1500,00 em diante : aumento de 5%\n",
        "Após o aumento ser realizado, informe na tela:\n",
        "    • o salário antes do reajuste;\n",
        "    • o percentual de aumento aplicado;\n",
        "    • o valor do aumento;\n",
        "    • o novo salário, após o aumento.\""
      ]
    },
    {
      "cell_type": "code",
      "metadata": {
        "id": "ajbIH8WHJsv-",
        "colab": {
          "base_uri": "https://localhost:8080/"
        },
        "outputId": "5955e817-615b-488f-86a8-c2ac86d447e9"
      },
      "source": [
        "#inserindo o valor do salario do funcionario\n",
        "\n",
        "salario_inicial = float(input('Coloque o valor do salário que você quer reajustar: '))\n",
        "\n",
        "#determinando os percentuais de reajuste \n",
        "aumento_faixa1 = salario_inicial * 0.20\n",
        "aumento_faixa2 = salario_inicial * 0.15\n",
        "aumento_faixa3 = salario_inicial * 0.10\n",
        "aumento_faixa4 = salario_inicial * 0.05\n",
        "\n",
        "#se o salario for ate 280,00 reajustar em 20%\n",
        "if salario_inicial <= 280:   \n",
        "  print(f\"O salario antes do reajuste era R${salario_inicial:.2f} e sofrerá um ajuste de R${aumento_faixa1:.2f}(20%). O novo salário será de R${salario_inicial+aumento_faixa1:.2f}\")\n",
        "\n",
        "#se o salario for entre 280 e 700, reajustar em 15%\n",
        "elif salario_inicial > 280 and salario_inicial < 700:   \n",
        "  print(f\"O salario antes do reajuste era R${salario_inicial:.2f} e sofrerá um ajuste de R${aumento_faixa2:.2f}(15%). O novo salário será de R${salario_inicial+aumento_faixa2:.2f}\")\n",
        "\n",
        "#se o salario for entre 700 e 1500, reajustar em 10%\n",
        "elif salario_inicial >= 700 and salario_inicial < 1500: \n",
        "  print(f\"O salario antes do reajuste era R${salario_inicial:.2f} e sofrerá um ajuste de R${aumento_faixa3:.2f}(10%). O novo salário será de R${salario_inicial+aumento_faixa3:.2f}\")\n",
        "\n",
        "#mais de 1.500, reajustar em 5%\n",
        "else: \n",
        "  print(f\"O salario antes do reajuste era R${salario_inicial:.2f} e sofrerá um ajuste de R${aumento_faixa4:.2f}(5%). O novo salário será de R${salario_inicial+aumento_faixa4:.2f}\")\n"
      ],
      "execution_count": 76,
      "outputs": [
        {
          "output_type": "stream",
          "text": [
            "Coloque o valor do salário que você quer reajustar: 450\n",
            "O salario antes do reajuste era R$450.00 e sofrerá um ajuste de R$67.50(15%). O novo salário será de R$517.50\n"
          ],
          "name": "stdout"
        }
      ]
    },
    {
      "cell_type": "markdown",
      "metadata": {
        "id": "W0Z9cw8-K_dZ"
      },
      "source": [
        "# **DESAFIO**\n",
        "Faça um Programa para um caixa eletrônico. O programa deverá perguntar ao usuário a valor do saque e depois informar quantas notas de cada valor serão fornecidas. As notas disponíveis serão as de 1, 5, 10, 50 e 100 reais. O valor mínimo é de 10 reais e o máximo de 600 reais. O programa não deve se preocupar com a quantidade de notas existentes na máquina.\n",
        "    • Exemplo 1: Para sacar a quantia de 256 reais, o programa fornece duas notas de 100, uma nota de 50, uma nota de 5 e uma nota de 1;\n",
        "    • Exemplo 2: Para sacar a quantia de 399 reais, o programa fornece três notas de 100, uma nota de 50, quatro notas de 10, uma nota de 5 e quatro notas de 1."
      ]
    },
    {
      "cell_type": "code",
      "metadata": {
        "id": "47vmEVi1JtSw",
        "colab": {
          "base_uri": "https://localhost:8080/"
        },
        "outputId": "906db9f6-26cd-4c59-d6b1-9d66b89faabd"
      },
      "source": [
        "#Identificar input de entrada como numero inteiro\n",
        "#definir mensagem de erro caso a pessoa coloque um valor diferente do permitido\n",
        "#ao colocar o valor permitido a contagem de cedulas vai funcionar como exercicio de latas e galões do material complementar calculando da maior nota para menor nota até zerar valor\n",
        "\n",
        "saque = int(input('Coloque o valor que você deseja sacar : (10 a 600 reais): '))\n",
        "if saque >= 10 and saque <= 600 :\n",
        "  notas_cem =  int(saque / 100)\n",
        "  saque = saque - (notas_cem*100)\n",
        "  print('Notas R$100,00 = ',notas_cem)\n",
        "  notas_cinquenta = int(saque/50)\n",
        "  saque = saque - (notas_cinquenta*50)\n",
        "  print('Notas R$ 50,00 = ',notas_cinquenta)\n",
        "  notas_dez = int(saque/10)\n",
        "  saque = saque - (notas_dez*10)\n",
        "  print('Notas R$ 10,00 = ',notas_dez)\n",
        "  notas_cinco = int(saque/5)\n",
        "  saque = saque - (notas_cinco*5)\n",
        "  print('Notas R$  5,00 = ',notas_cinco)\n",
        "  notas_um = saque\n",
        "  print('Notas R$  1,00 = ',notas_um)\n",
        "else :\n",
        "  print ('Os saques neste terminal só são válidos para saques entre R$10.00 e R$600.00')"
      ],
      "execution_count": 75,
      "outputs": [
        {
          "output_type": "stream",
          "text": [
            "Coloque o valor que você deseja sacar : (10 a 600 reais): 60\n",
            "Notas R$100,00 =  0\n",
            "Notas R$ 50,00 =  1\n",
            "Notas R$ 10,00 =  1\n",
            "Notas R$  5,00 =  0\n",
            "Notas R$  1,00 =  0\n"
          ],
          "name": "stdout"
        }
      ]
    }
  ]
}